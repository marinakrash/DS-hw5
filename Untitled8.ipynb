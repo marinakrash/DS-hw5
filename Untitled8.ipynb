{
  "nbformat": 4,
  "nbformat_minor": 0,
  "metadata": {
    "colab": {
      "provenance": []
    },
    "kernelspec": {
      "name": "python3",
      "display_name": "Python 3"
    },
    "language_info": {
      "name": "python"
    }
  },
  "cells": [
    {
      "cell_type": "code",
      "execution_count": 71,
      "metadata": {
        "colab": {
          "base_uri": "https://localhost:8080/"
        },
        "id": "MchDNC5MfkME",
        "outputId": "a909bf0e-fef5-4a08-ce34-f0934d7ed35b"
      },
      "outputs": [
        {
          "output_type": "stream",
          "name": "stdout",
          "text": [
            "  activity  accelerometer_X  accelerometer_Y  accelerometer_Z\n",
            "0   stairs         6.789956        -6.947973        -3.007117\n",
            "1   stairs         0.933739        -4.606444        -0.512359\n",
            "2   stairs         3.289633        -7.469909        -0.043096\n",
            "3   stairs        -1.651999       -17.535133        -2.250549\n",
            "4   stairs        -6.320692        -6.196194         1.896208\n"
          ]
        }
      ],
      "source": [
        "import os\n",
        "import pandas as pd\n",
        "import numpy as np\n",
        "\n",
        "root_folder = \"/content/drive/MyDrive/data\"\n",
        "\n",
        "all_data = pd.DataFrame()\n",
        "\n",
        "all_data['activity'] = None\n",
        "\n",
        "for activity_folder in os.listdir(root_folder):\n",
        "    activity_folder_path = os.path.join(root_folder, activity_folder)\n",
        "    if os.path.isdir(activity_folder_path):\n",
        "        for csv_file in os.listdir(activity_folder_path):\n",
        "            if csv_file.endswith('.csv'):\n",
        "                csv_file_path = os.path.join(activity_folder_path, csv_file)\n",
        "                data = pd.read_csv(csv_file_path)\n",
        "                data['activity'] = activity_folder\n",
        "\n",
        "                all_data = pd.concat([all_data, data], ignore_index=True)\n",
        "\n",
        "print(all_data.head())\n"
      ]
    },
    {
      "cell_type": "code",
      "source": [
        "from sklearn.svm import SVC\n",
        "from sklearn.ensemble import RandomForestClassifier\n",
        "from sklearn.model_selection import train_test_split\n",
        "from sklearn.metrics import accuracy_score, classification_report\n",
        "\n",
        "all_data.fillna(data.mean(), inplace=True)\n",
        "\n",
        "X = all_data.drop(columns=['activity'])\n",
        "y = all_data['activity']\n",
        "\n",
        "X_train, X_test, y_train, y_test = train_test_split(X, y, test_size=0.2, random_state=42)\n",
        "\n",
        "rf_model = RandomForestClassifier(n_estimators=100, random_state=42)\n",
        "rf_model.fit(X_train, y_train)\n",
        "\n",
        "rf_100_predictions = rf_model.predict(X_test)\n",
        "\n",
        "rf_100_accuracy = accuracy_score(y_test, rf_100_predictions)\n",
        "\n",
        "print(\"Accuracy for rf 100 estimators:\", rf_100_accuracy )\n",
        "print(classification_report(y_test, rf_100_predictions))\n",
        "\n",
        "svm_rbf_model = SVC(kernel='rbf', random_state=42)\n",
        "svm_rbf_model.fit(X_train, y_train)\n",
        "\n",
        "svm_rbf_predictions = svm_rbf_model.predict(X_test)\n",
        "\n",
        "svm_rbf_accuracy = accuracy_score(y_test, svm_rbf_predictions)\n",
        "\n",
        "print(\"Accuracy for svm rbf model:\", svm_rbf_accuracy)\n",
        "print(classification_report(y_test, svm_rbf_predictions))\n"
      ],
      "metadata": {
        "colab": {
          "base_uri": "https://localhost:8080/"
        },
        "id": "mmuR17jjf2Dm",
        "outputId": "cb042f79-047f-4b23-b27e-e6cdcc1904ed"
      },
      "execution_count": 73,
      "outputs": [
        {
          "output_type": "stream",
          "name": "stderr",
          "text": [
            "<ipython-input-73-5d9ed076d401>:6: FutureWarning: The default value of numeric_only in DataFrame.mean is deprecated. In a future version, it will default to False. In addition, specifying 'numeric_only=None' is deprecated. Select only valid columns or specify the value of numeric_only to silence this warning.\n",
            "  all_data.fillna(data.mean(), inplace=True)\n"
          ]
        },
        {
          "output_type": "stream",
          "name": "stdout",
          "text": [
            "Accuracy for rf 100 estimators: 0.9995873310636542\n",
            "              precision    recall  f1-score   support\n",
            "\n",
            "        idle       1.00      1.00      1.00      6156\n",
            "     running       1.00      1.00      1.00     20583\n",
            "      stairs       1.00      0.99      0.99       988\n",
            "     walking       1.00      1.00      1.00     11045\n",
            "\n",
            "    accuracy                           1.00     38772\n",
            "   macro avg       1.00      1.00      1.00     38772\n",
            "weighted avg       1.00      1.00      1.00     38772\n",
            "\n",
            "Accuracy for svm rbf model: 0.8947694212318168\n",
            "              precision    recall  f1-score   support\n",
            "\n",
            "        idle       0.96      0.99      0.97      6156\n",
            "     running       0.93      0.90      0.92     20583\n",
            "      stairs       1.00      0.00      0.00       988\n",
            "     walking       0.80      0.91      0.85     11045\n",
            "\n",
            "    accuracy                           0.89     38772\n",
            "   macro avg       0.92      0.70      0.69     38772\n",
            "weighted avg       0.90      0.89      0.88     38772\n",
            "\n"
          ]
        }
      ]
    },
    {
      "cell_type": "markdown",
      "source": [
        "Результати моделі випадкового лісу (Random Forest) дуже високі. Модель має високу точність (accuracy), близьку до 1.0, на всіх класах. Оцінки precision, recall і f1-score також дуже високі для всіх класів, що свідчить про добру здатність моделі класифікувати дані.\n",
        "Модель SVM з ядром RBF має меншу точність та менше значення оцінок precision, recall і f1-score для деяких класів, особливо для класу \"stairs\", де точність та recall наближаються до 0.0. Це свідчить про те, що модель SVM з RBF-ядром не так добре впоралася з цими даними в порівнянні з випадковим лісом.\n",
        "\n",
        "\n",
        "\n"
      ],
      "metadata": {
        "id": "xGqIvIGcKlem"
      }
    }
  ]
}